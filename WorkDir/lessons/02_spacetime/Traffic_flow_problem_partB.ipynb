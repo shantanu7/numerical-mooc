{
 "cells": [
  {
   "cell_type": "code",
   "execution_count": 4,
   "metadata": {
    "collapsed": false
   },
   "outputs": [
    {
     "name": "stdout",
     "output_type": "stream",
     "text": [
      "Min velocity at t = 0: 30.2222222222 m/s\n",
      "nt: 101\n",
      "At time 3.000000000000002 minutes average velocity 34.2693722253 m/s\n",
      "At time 3.000000000000002 minutes minimum velocity 31.3002645553 m/s\n"
     ]
    }
   ],
   "source": [
    "from math import sin, cos, log, pi\n",
    "import numpy as np\n",
    "from matplotlib import pyplot\n",
    "%matplotlib inline\n",
    "from matplotlib import rcParams\n",
    "rcParams['font.family'] = 'serif'\n",
    "rcParams['font.size'] = 16\n",
    "\n",
    "#Define problem parameters:\n",
    "rho_max = 250 #cars/km\n",
    "vmax = 136 #km/hr\n",
    "L = 11 #km\n",
    "nx = 51\n",
    "dt = 0.001 #hours\n",
    "x = np.linspace(0,L,nx)\n",
    "Tmax = 0.1 #hrs, 6 minutes\n",
    "\n",
    "#Define initial conditions\n",
    "time = 0.0\n",
    "rho0 = np.ones(nx)*10\n",
    "rho0[10:20] = 50\n",
    "rho0[0] = 20\n",
    "\n",
    "rho = rho0\n",
    "rho_new = rho\n",
    "\n",
    "v = vmax*(1-rho/rho_max)\n",
    "F = v*rho\n",
    "print('Min velocity at t = 0:', min(v)*5/18, 'm/s')\n",
    "\n",
    "nt = int(Tmax/dt) + 1\n",
    "print('nt:', nt)\n",
    "dx = L/(nx-1)\n",
    "\n",
    "#Define differencing\n",
    "for iter in range(1, nt):\n",
    "    time = time + dt\n",
    "    rho_new[1:] = rho[1:] - dt/dx*(F[1:]-F[0:-1])\n",
    "    \n",
    "    #define boundary condition:\n",
    "    rho_new[0] = 20\n",
    "    rho = rho_new\n",
    "    \n",
    "    #update velocity and fluxes\n",
    "    v = vmax*(1-rho/rho_max)\n",
    "    F = v*rho\n",
    "    \n",
    "    if (iter == 50):\n",
    "        print('At time', time*60, 'minutes average velocity', np.average(v)*5/18, 'm/s')\n",
    "        print('At time', time*60, 'minutes minimum velocity', np.min(v)*5/18, 'm/s')"
   ]
  },
  {
   "cell_type": "code",
   "execution_count": null,
   "metadata": {
    "collapsed": true
   },
   "outputs": [],
   "source": []
  }
 ],
 "metadata": {
  "kernelspec": {
   "display_name": "Python 3",
   "language": "python",
   "name": "python3"
  },
  "language_info": {
   "codemirror_mode": {
    "name": "ipython",
    "version": 3
   },
   "file_extension": ".py",
   "mimetype": "text/x-python",
   "name": "python",
   "nbconvert_exporter": "python",
   "pygments_lexer": "ipython3",
   "version": "3.4.3"
  }
 },
 "nbformat": 4,
 "nbformat_minor": 0
}
