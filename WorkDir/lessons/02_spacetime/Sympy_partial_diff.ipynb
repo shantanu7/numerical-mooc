{
 "cells": [
  {
   "cell_type": "code",
   "execution_count": 9,
   "metadata": {
    "collapsed": false
   },
   "outputs": [],
   "source": [
    "#Import everything from sympy\n",
    "from sympy import *\n",
    "#np is used as an alias for numpy\n",
    "import numpy as np\n",
    "\n",
    "x = Symbol('x')\n",
    "\n",
    "y = (cos(x))**2*(sin(x))**3/(4*x**5*exp(x))\n",
    "\n",
    "yp = y.diff(x)\n"
   ]
  },
  {
   "cell_type": "code",
   "execution_count": 10,
   "metadata": {
    "collapsed": false
   },
   "outputs": [
    {
     "data": {
      "text/plain": [
       "-0.00026648912670920613"
      ]
     },
     "execution_count": 10,
     "metadata": {},
     "output_type": "execute_result"
    }
   ],
   "source": [
    "#Create a function f prototype\n",
    "f = lambdify(x, yp, 'numpy')\n",
    "f(2.2)"
   ]
  },
  {
   "cell_type": "code",
   "execution_count": null,
   "metadata": {
    "collapsed": true
   },
   "outputs": [],
   "source": []
  }
 ],
 "metadata": {
  "kernelspec": {
   "display_name": "Python 3",
   "language": "python",
   "name": "python3"
  },
  "language_info": {
   "codemirror_mode": {
    "name": "ipython",
    "version": 3
   },
   "file_extension": ".py",
   "mimetype": "text/x-python",
   "name": "python",
   "nbconvert_exporter": "python",
   "pygments_lexer": "ipython3",
   "version": "3.4.3"
  }
 },
 "nbformat": 4,
 "nbformat_minor": 0
}
