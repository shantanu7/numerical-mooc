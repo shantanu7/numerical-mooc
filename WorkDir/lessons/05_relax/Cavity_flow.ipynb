{
 "cells": [
  {
   "cell_type": "code",
   "execution_count": 39,
   "metadata": {
    "collapsed": true
   },
   "outputs": [],
   "source": [
    "%matplotlib inline\n",
    "import numpy\n",
    "import matplotlib\n",
    "from matplotlib import pyplot, rcParams, animation\n",
    "\n",
    "rcParams['font.family'] = 'serif'\n",
    "rcParams['font.size'] = 16"
   ]
  },
  {
   "cell_type": "code",
   "execution_count": 119,
   "metadata": {
    "collapsed": false
   },
   "outputs": [],
   "source": [
    "#Define grid parameters\n",
    "nx = 41\n",
    "ny = 41\n",
    "\n",
    "l = 1.\n",
    "h = 1.\n",
    "\n",
    "dx = l/(nx-1)\n",
    "dy = h/(ny-1)\n",
    "\n",
    "#Tolerance\n",
    "l1_target = 1e-6; L1_norm = 1e10;\n",
    "\n",
    "#Global variables\n",
    "Utop = 1.0;\n",
    "psi = numpy.zeros((ny,nx));\n",
    "wz = numpy.zeros((ny,nx));"
   ]
  },
  {
   "cell_type": "code",
   "execution_count": 120,
   "metadata": {
    "collapsed": true
   },
   "outputs": [],
   "source": [
    "#Define Poisson solver:\n",
    "def Poisson_solve (u, unew, source, dx, dy):\n",
    "    \n",
    "    m = numpy.size(u[0,:])\n",
    "    n = numpy.size(u[:,0])\n",
    "\n",
    "    #unew = numpy.zeros_like(u)\n",
    "    \n",
    "    dxdy2inv = 1.0/(dx**2) + 1.0/(dy**2)\n",
    "    \n",
    "    # Solve Laplacian(u) = source\n",
    "    # Currently uses Jacobi. Learn JIT and implement Gauss-Seidel\n",
    "    unew[1:-1,1:-1] = 0.5/dxdy2inv * ( \\\n",
    "                        (u[1:-1,2:]+u[1:-1,:-2])/(dx**2) + \\\n",
    "                        (u[2:,1:-1]+u[:-2,1:-1])/(dy**2) - \\\n",
    "                        source[1:-1,1:-1] );\n",
    "    \n",
    "    return unew;"
   ]
  },
  {
   "cell_type": "code",
   "execution_count": 121,
   "metadata": {
    "collapsed": true
   },
   "outputs": [],
   "source": [
    "#Define initial conditions:\n",
    "def init_psi_wz (nx, ny):\n",
    "    \n",
    "    sf = numpy.zeros((ny,nx)); \n",
    "    vort = numpy.zeros_like(sf);\n",
    "    \n",
    "    #Top edge\n",
    "    vort[-1,:] = -0.5/(dy**2)*(8*sf[-2,:] - sf[-3,:]) -3/dy*Utop;\n",
    "    \n",
    "    return (sf, vort);"
   ]
  },
  {
   "cell_type": "code",
   "execution_count": 122,
   "metadata": {
    "collapsed": true
   },
   "outputs": [],
   "source": [
    "#Define boundary conditions:\n",
    "def BC_wz (psi, wz):\n",
    "    \n",
    "    #Boundary conditions on vorticity:\n",
    "    #Left edge (No tangential velocity):\n",
    "    wz[:,0] = -0.5/(dx**2)*(8*psi[:,1] - psi[:,2]);\n",
    "    #Right edge (No tangential velocity):\n",
    "    wz[:,-1] = -0.5/(dx**2)*(8*psi[:,-2] - psi[:,-3]);\n",
    "    #Bottom edge (No tangential velocity):\n",
    "    wz[0,:] = -0.5/(dy**2)*(8*psi[1,:] - psi[2,:]);\n",
    "    #Top edge (Tangential velocity = Utop):\n",
    "    wz[-1,:] = -0.5/(dy**2)*(8*psi[-2,:] - psi[-3,:]) -3/dy*Utop;\n",
    "    \n",
    "    return wz;"
   ]
  },
  {
   "cell_type": "code",
   "execution_count": 123,
   "metadata": {
    "collapsed": true
   },
   "outputs": [],
   "source": [
    "#Define boundary conditions:\n",
    "def BC_psi (psi, wz):\n",
    "    \n",
    "    #Boundary conditions on streamfunctions:\n",
    "    psi[:,0] = 0; psi[:,-1] = 0; psi[0,:] = 0; psi[-1,:] = 0;\n",
    "    \n",
    "    return psi;"
   ]
  },
  {
   "cell_type": "code",
   "execution_count": 124,
   "metadata": {
    "collapsed": true
   },
   "outputs": [],
   "source": [
    "def L1norm_fun(new, old):\n",
    "    \n",
    "    norm = numpy.sum(numpy.abs(new-old))\n",
    "    \n",
    "    return norm;"
   ]
  },
  {
   "cell_type": "code",
   "execution_count": 135,
   "metadata": {
    "collapsed": false
   },
   "outputs": [
    {
     "name": "stdout",
     "output_type": "stream",
     "text": [
      "Max value of abs(psi): 0.0998447258637\n",
      "Max value of abs(wz): 78.1926609601\n"
     ]
    },
    {
     "data": {
      "text/plain": [
       "array([ 0.    , -0.0575, -0.0944, -0.0944, -0.0575,  0.    ])"
      ]
     },
     "execution_count": 135,
     "metadata": {},
     "output_type": "execute_result"
    }
   ],
   "source": [
    "nullmat = numpy.zeros_like(wz)\n",
    "\n",
    "psi, wz = init_psi_wz(nx,ny);\n",
    "iter = 0\n",
    "\n",
    "while (L1_norm >= l1_target):\n",
    "    wz_new = Poisson_solve(wz, wz_new, nullmat, dx, dy);\n",
    "    wz_new = BC_wz(psi, wz_new);\n",
    "    \n",
    "    psi_new = Poisson_solve(psi, psi_new, -1.0*wz_new, dx, dy);\n",
    "    psi_new = BC_psi(psi_new, wz_new);\n",
    "    \n",
    "    L1_norm = L1norm_fun(psi_new,psi)\n",
    "    \n",
    "    wz = numpy.copy(wz_new);\n",
    "    psi = numpy.copy(psi_new);\n",
    "    iter = iter + 1\n",
    "\n",
    "print('Max value of abs(psi):',numpy.max(numpy.abs(psi_new)))\n",
    "print('Max value of abs(wz):',numpy.max(numpy.abs(wz_new[1:,1:-1])))\n",
    "numpy.round(psi_new[32,::8], 4)"
   ]
  },
  {
   "cell_type": "code",
   "execution_count": 133,
   "metadata": {
    "collapsed": false
   },
   "outputs": [
    {
     "data": {
      "image/png": "[encoded data removed]",
      "text/plain": [
       "<matplotlib.figure.Figure at 0x7f4338a20908>"
      ]
     },
     "metadata": {},
     "output_type": "display_data"
    }
   ],
   "source": [
    "pyplot.figure(figsize=(8,6))\n",
    "pyplot.contourf(psi_new,cmap=matplotlib.cm.viridis)\n",
    "pyplot.colorbar();"
   ]
  },
  {
   "cell_type": "code",
   "execution_count": 132,
   "metadata": {
    "collapsed": false
   },
   "outputs": [
    {
     "data": {
      "image/png": "[encoded data removed]",
      "text/plain": [
       "<matplotlib.figure.Figure at 0x7f4338b47be0>"
      ]
     },
     "metadata": {},
     "output_type": "display_data"
    }
   ],
   "source": [
    "pyplot.figure(figsize=(8,6))\n",
    "pyplot.contourf(wz_new,cmap=matplotlib.cm.viridis)\n",
    "pyplot.colorbar();"
   ]
  },
  {
   "cell_type": "code",
   "execution_count": null,
   "metadata": {
    "collapsed": true
   },
   "outputs": [],
   "source": []
  }
 ],
 "metadata": {
  "kernelspec": {
   "display_name": "Python 3",
   "language": "python",
   "name": "python3"
  },
  "language_info": {
   "codemirror_mode": {
    "name": "ipython",
    "version": 3
   },
   "file_extension": ".py",
   "mimetype": "text/x-python",
   "name": "python",
   "nbconvert_exporter": "python",
   "pygments_lexer": "ipython3",
   "version": "3.4.3"
  }
 },
 "nbformat": 4,
 "nbformat_minor": 0
}
